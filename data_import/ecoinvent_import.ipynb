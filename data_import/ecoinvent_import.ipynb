{
 "cells": [
  {
   "cell_type": "markdown",
   "metadata": {},
   "source": [
    "```{admonition} Authors\n",
    "This notebook was prepared in August 2023 by [`@michaelweinold`](https://github.com/michaelweinold).\n",
    "```\n",
    "```{admonition} Download\n",
    "You can download this notebook here: {nb-download}`ecoinvent_import.ipynb` \\\n",
    "You can download the required Conda environment here: {download}`ecoinvent_import.yml`\n",
    "```\n",
    "```{admonition} Prerequisites\n",
    "1. A local download of the correct Ecoinvent 3.9.1, Cutoff database (unzipped).\n",
    "2. The appropriate Conda environment, installed from the provided environment file.\n",
    "```"
   ]
  },
  {
   "attachments": {},
   "cell_type": "markdown",
   "metadata": {},
   "source": [
    "## 0. Setup\n",
    "### 0.1. Imports"
   ]
  },
  {
   "cell_type": "code",
   "execution_count": 1,
   "metadata": {},
   "outputs": [],
   "source": [
    "# Brightway packages\n",
    "import bw2io\n",
    "import bw2data\n",
    "# Brightway type hints\n",
    "from bw2io import SingleOutputEcospold2Importer\n",
    "# import/export\n",
    "import os"
   ]
  },
  {
   "attachments": {},
   "cell_type": "markdown",
   "metadata": {},
   "source": [
    "### 0.2. Variables"
   ]
  },
  {
   "cell_type": "code",
   "execution_count": 2,
   "metadata": {},
   "outputs": [],
   "source": [
    "str_ecoinvent_version: str = '3.9.1'"
   ]
  },
  {
   "attachments": {},
   "cell_type": "markdown",
   "metadata": {},
   "source": [
    "### 0.2. File paths\n",
    "\n",
    "```{note}\n",
    "Replace `/data/data_raw` with the path to the Ecoinvent data folder you downloaded according to the [prerequisites](#introduction_prerequisites).\n",
    "```"
   ]
  },
  {
   "cell_type": "code",
   "execution_count": 10,
   "metadata": {},
   "outputs": [],
   "source": [
    "path_dir_datasets_ecoinvent: str = os.path.expanduser('~') + '/data/data_raw/ecoinvent ' + str_ecoinvent_version + '_cutoff_ecoSpold02/datasets'"
   ]
  },
  {
   "cell_type": "code",
   "execution_count": 11,
   "metadata": {},
   "outputs": [
    {
     "data": {
      "text/plain": [
       "'/Users/michaelweinold/data/data_raw/ecoinvent 3.9.1_cutoff_ecoSpold02/datasets'"
      ]
     },
     "execution_count": 11,
     "metadata": {},
     "output_type": "execute_result"
    }
   ],
   "source": [
    "path_dir_datasets_ecoinvent"
   ]
  },
  {
   "attachments": {},
   "cell_type": "markdown",
   "metadata": {},
   "source": [
    "## 1. `Brightway` setup\n",
    "### 1.1. List all projects and current project"
   ]
  },
  {
   "cell_type": "code",
   "execution_count": 12,
   "metadata": {},
   "outputs": [
    {
     "data": {
      "text/plain": [
       "Brightway2 projects manager with 4 objects:\n",
       "\t3.9.1\n",
       "\tbw25-tuto\n",
       "\tdefault\n",
       "\timport1\n",
       "Use `projects.report()` to get a report on all projects."
      ]
     },
     "execution_count": 12,
     "metadata": {},
     "output_type": "execute_result"
    }
   ],
   "source": [
    "bw2data.projects"
   ]
  },
  {
   "cell_type": "code",
   "execution_count": 13,
   "metadata": {},
   "outputs": [
    {
     "data": {
      "text/plain": [
       "'3.9.1'"
      ]
     },
     "execution_count": 13,
     "metadata": {},
     "output_type": "execute_result"
    }
   ],
   "source": [
    "bw2data.projects.current"
   ]
  },
  {
   "attachments": {},
   "cell_type": "markdown",
   "metadata": {},
   "source": [
    "### 1.2. Ensure no project is corrupted\n",
    "\n",
    "If a project has been corrupted, simply delete it and re-populate it (compare [`bw2io` issue #118](https://github.com/brightway-lca/brightway2-data/issues/118))"
   ]
  },
  {
   "cell_type": "code",
   "execution_count": 14,
   "metadata": {},
   "outputs": [],
   "source": [
    "def safe_delete_brightway_project(projectname: str) -> None:\n",
    "    try:\n",
    "        bw2data.projects.delete_project(\n",
    "            name = projectname,\n",
    "            delete_dir = True\n",
    "        )\n",
    "    except:\n",
    "        pass"
   ]
  },
  {
   "attachments": {},
   "cell_type": "markdown",
   "metadata": {},
   "source": [
    "## 2. Import `Ecoinvent` Databases\n",
    "### 2.1. `Ecoinvent 3.9.1`\n",
    "\n",
    "```{note}\n",
    "\"Which `bw2io` version to use?\" - ~~Compare the [Brightway mailing list](https://brightway.groups.io/g/development/message/154) and the [`bw2io` changelog](https://github.com/brightway-lca/brightway2-io/blob/main/CHANGES.md#085-2021-09-21): for Ecoinvent < 3.8: use `0.8.7`~~ \\\n",
    "The lastest version of `bw2io` correctly recognizes old and new Ecoinvent versions.\n",
    "```"
   ]
  },
  {
   "cell_type": "code",
   "execution_count": 15,
   "metadata": {},
   "outputs": [
    {
     "data": {
      "text/plain": [
       "(0, 8, 10)"
      ]
     },
     "execution_count": 15,
     "metadata": {},
     "output_type": "execute_result"
    }
   ],
   "source": [
    "bw2io.__version__"
   ]
  },
  {
   "cell_type": "code",
   "execution_count": 16,
   "metadata": {},
   "outputs": [
    {
     "name": "stdout",
     "output_type": "stream",
     "text": [
      "Creating default biosphere\n",
      "\n",
      "Applying strategy: normalize_units\n",
      "Applying strategy: drop_unspecified_subcategories\n",
      "Applying strategy: ensure_categories_are_tuples\n",
      "Applied 3 strategies in 0.00 seconds\n",
      "Warning: No valid output stream.\n",
      "Title: Writing activities to SQLite3 database:\n",
      "  Started: 11/18/2023 08:28:56\n",
      "  Finished: 11/18/2023 08:28:56\n",
      "  Total time elapsed: 00:00:00\n",
      "  CPU %: 99.90\n",
      "  Memory %: 1.79\n",
      "Created database: biosphere3\n",
      "Creating default LCIA methods\n",
      "\n",
      "Wrote 762 LCIA methods with 227223 characterization factors\n",
      "Creating core data migrations\n",
      "\n",
      "Extracting XML data from 21238 datasets\n",
      "Extracted 21238 datasets in 16.19 seconds\n"
     ]
    }
   ],
   "source": [
    "safe_delete_brightway_project(str_ecoinvent_version)\n",
    "bw2data.projects.set_current(str_ecoinvent_version)\n",
    "bw2io.bw2setup()\n",
    "importer: SingleOutputEcospold2Importer = bw2io.SingleOutputEcospold2Importer(\n",
    "    dirpath = path_dir_datasets_ecoinvent,\n",
    "    db_name = str_ecoinvent_version\n",
    ")"
   ]
  },
  {
   "cell_type": "code",
   "execution_count": 17,
   "metadata": {},
   "outputs": [
    {
     "name": "stdout",
     "output_type": "stream",
     "text": [
      "Applying strategy: normalize_units\n",
      "Applying strategy: update_ecoinvent_locations\n",
      "Applying strategy: remove_zero_amount_coproducts\n",
      "Applying strategy: remove_zero_amount_inputs_with_no_activity\n",
      "Applying strategy: remove_unnamed_parameters\n",
      "Applying strategy: es2_assign_only_product_with_amount_as_reference_product\n",
      "Applying strategy: assign_single_product_as_activity\n",
      "Applying strategy: create_composite_code\n",
      "Applying strategy: drop_unspecified_subcategories\n",
      "Applying strategy: fix_ecoinvent_flows_pre35\n",
      "Applying strategy: drop_temporary_outdated_biosphere_flows\n",
      "Applying strategy: link_biosphere_by_flow_uuid\n",
      "Applying strategy: link_internal_technosphere_by_composite_code\n",
      "Applying strategy: delete_exchanges_missing_activity\n",
      "Applying strategy: delete_ghost_exchanges\n",
      "Applying strategy: remove_uncertainty_from_negative_loss_exchanges\n",
      "Applying strategy: fix_unreasonably_high_lognormal_uncertainties\n",
      "Applying strategy: convert_activity_parameters_to_list\n",
      "Applying strategy: add_cpc_classification_from_single_reference_product\n",
      "Applying strategy: delete_none_synonyms\n",
      "Applying strategy: set_lognormal_loc_value\n",
      "Applied 21 strategies in 3.75 seconds\n",
      "21238 datasets\n",
      "674593 exchanges\n",
      "0 unlinked exchanges\n",
      "  \n"
     ]
    },
    {
     "data": {
      "text/plain": [
       "(21238, 674593, 0)"
      ]
     },
     "execution_count": 17,
     "metadata": {},
     "output_type": "execute_result"
    }
   ],
   "source": [
    "importer.apply_strategies()\n",
    "importer.statistics()"
   ]
  }
 ],
 "metadata": {
  "kernelspec": {
   "display_name": "pylcaio_ecoinvent_3_9",
   "language": "python",
   "name": "python3"
  },
  "language_info": {
   "codemirror_mode": {
    "name": "ipython",
    "version": 3
   },
   "file_extension": ".py",
   "mimetype": "text/x-python",
   "name": "python",
   "nbconvert_exporter": "python",
   "pygments_lexer": "ipython3",
   "version": "3.11.6"
  },
  "orig_nbformat": 4,
  "vscode": {
   "interpreter": {
    "hash": "3c89c8428eb62ebeff7cce9fe46d72c1c903a49cd2726d542d3c7356791f0388"
   }
  }
 },
 "nbformat": 4,
 "nbformat_minor": 2
}
