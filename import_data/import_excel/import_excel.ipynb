{
 "cells": [
  {
   "cell_type": "markdown",
   "metadata": {},
   "source": [
    "# Import from Excel"
   ]
  },
  {
   "cell_type": "markdown",
   "metadata": {},
   "source": [
    "```{admonition} Authors\n",
    "This notebook was prepared in October 2023 by [`@michaelweinold`](https://github.com/michaelweinold).\n",
    "```\n",
    "```{admonition} Download\n",
    "You can download this notebook here: {nb-download}`import_excel.ipynb` \\\n",
    "You can download the required Excel sheet here: {nb-download}`my_own_database.xlsx`\n",
    "```\n",
    "```{admonition} Prerequisites\n",
    "1. [A working installation of Brightway25.](https://docs.brightway.dev/en/latest/content/installation/index.html)\n",
    "2. The Ecoinvent 3.9.1, cutoff database added to your Brightway project (here named `import_excel`).\n",
    "```"
   ]
  },
  {
   "cell_type": "code",
   "execution_count": null,
   "metadata": {},
   "outputs": [],
   "source": [
    "# Brightway packages\n",
    "import bw2io as bi\n",
    "import bw2data as bd\n",
    "import bw2calc as bc"
   ]
  },
  {
   "cell_type": "code",
   "execution_count": 39,
   "metadata": {},
   "outputs": [],
   "source": [
    "bd.projects.set_current(\"import_excel\")"
   ]
  },
  {
   "cell_type": "markdown",
   "metadata": {},
   "source": [
    "Here, we assume you have added the Ecoinvent 3.9.1 database to your Brightway project."
   ]
  },
  {
   "cell_type": "code",
   "execution_count": 42,
   "metadata": {},
   "outputs": [
    {
     "data": {
      "text/plain": [
       "Databases dictionary with 2 object(s):\n",
       "\tecoinvent-3.9.1-biosphere\n",
       "\tecoinvent-3.9.1-cutoff"
      ]
     },
     "execution_count": 42,
     "metadata": {},
     "output_type": "execute_result"
    }
   ],
   "source": [
    "bd.databases"
   ]
  },
  {
   "cell_type": "markdown",
   "metadata": {},
   "source": [
    "We can now import an Excel sheet into Brightway. This is useful if you have data in Excel format that you want to use in your LCA calculations.\n",
    "\n",
    "Creating such an Excel sheet is simple: Follow the basic example in `my_own_database.xlsx` and add your own data.\n",
    "\n",
    "As you can see, you must separate **Activity** blocks by a single empty row. The name of the individual sheets does not matter. Brightway attempts to import all sheets in the Excel file. In the example case, there is only a single sheet, named `data`. You may stop Brightway from importing specific sheets by writing `skip` in the first cell of the sheet.\n"
   ]
  },
  {
   "cell_type": "code",
   "execution_count": 53,
   "metadata": {},
   "outputs": [
    {
     "name": "stdout",
     "output_type": "stream",
     "text": [
      "Extracted 1 worksheets in 0.01 seconds\n"
     ]
    }
   ],
   "source": [
    "my_db = bi.ExcelImporter(\"my_own_database.xlsx\")"
   ]
  },
  {
   "cell_type": "code",
   "execution_count": 54,
   "metadata": {},
   "outputs": [
    {
     "name": "stdout",
     "output_type": "stream",
     "text": [
      "Applying strategy: csv_restore_tuples\n",
      "Applying strategy: csv_restore_booleans\n",
      "Applying strategy: csv_numerize\n",
      "Applying strategy: csv_drop_unknown\n",
      "Applying strategy: csv_add_missing_exchanges_section\n",
      "Applying strategy: normalize_units\n",
      "Applying strategy: normalize_biosphere_categories\n",
      "Applying strategy: normalize_biosphere_names\n",
      "Applying strategy: strip_biosphere_exc_locations\n",
      "Applying strategy: set_code_by_activity_hash\n",
      "Applying strategy: link_iterable_by_fields\n",
      "Applying strategy: assign_only_product_as_production\n",
      "Applying strategy: link_technosphere_by_activity_hash\n",
      "Applying strategy: drop_falsey_uncertainty_fields_but_keep_zeros\n",
      "Applying strategy: convert_uncertainty_types_to_integers\n",
      "Applying strategy: convert_activity_parameters_to_list\n",
      "Applied 16 strategies in 5.50 seconds\n"
     ]
    }
   ],
   "source": [
    "my_db.apply_strategies()"
   ]
  },
  {
   "cell_type": "code",
   "execution_count": 55,
   "metadata": {},
   "outputs": [
    {
     "name": "stdout",
     "output_type": "stream",
     "text": [
      "Applying strategy: link_iterable_by_fields\n"
     ]
    }
   ],
   "source": [
    "my_db.match_database(\n",
    "    \"ecoinvent-3.9.1-cutoff\", fields=[\"name\", \"unit\", \"location\", \"reference product\"]\n",
    ")"
   ]
  },
  {
   "cell_type": "code",
   "execution_count": 56,
   "metadata": {},
   "outputs": [
    {
     "name": "stdout",
     "output_type": "stream",
     "text": [
      "2 datasets\n",
      "\t4 exchanges\n",
      "\tLinks to the following databases:\n",
      "\t\tmy_own_database (3 exchanges)\n",
      "\t\tecoinvent-3.9.1-cutoff (1 exchanges)\n",
      "\t0 unlinked exchanges (0 types)\n",
      "\t\t\n"
     ]
    },
    {
     "data": {
      "text/plain": [
       "(2, 4, 0, 0)"
      ]
     },
     "execution_count": 56,
     "metadata": {},
     "output_type": "execute_result"
    }
   ],
   "source": [
    "my_db.statistics()"
   ]
  },
  {
   "cell_type": "code",
   "execution_count": 57,
   "metadata": {},
   "outputs": [
    {
     "name": "stderr",
     "output_type": "stream",
     "text": [
      "100%|██████████| 2/2 [00:00<00:00, 5461.33it/s]\n"
     ]
    },
    {
     "name": "stdout",
     "output_type": "stream",
     "text": [
      "Vacuuming database \n",
      "Created database: my_own_database\n"
     ]
    }
   ],
   "source": [
    "my_db.write_database()"
   ]
  },
  {
   "cell_type": "code",
   "execution_count": 58,
   "metadata": {},
   "outputs": [
    {
     "data": {
      "text/plain": [
       "Databases dictionary with 3 object(s):\n",
       "\tecoinvent-3.9.1-biosphere\n",
       "\tecoinvent-3.9.1-cutoff\n",
       "\tmy_own_database"
      ]
     },
     "execution_count": 58,
     "metadata": {},
     "output_type": "execute_result"
    }
   ],
   "source": [
    "bd.databases"
   ]
  },
  {
   "cell_type": "markdown",
   "metadata": {},
   "source": [
    "We can now browse the activities in the database..."
   ]
  },
  {
   "cell_type": "code",
   "execution_count": 59,
   "metadata": {},
   "outputs": [
    {
     "data": {
      "text/plain": [
       "['magic ingredient production' (kilogram, CO, None),\n",
       " 'magic banana production' (kilogram, CO, None)]"
      ]
     },
     "execution_count": 59,
     "metadata": {},
     "output_type": "execute_result"
    }
   ],
   "source": [
    "[activitiy for activitiy in bd.Database(\"my_own_database\")]"
   ]
  },
  {
   "cell_type": "markdown",
   "metadata": {},
   "source": [
    "...and conduct a basic life-cycle assessment of our new activity:"
   ]
  },
  {
   "cell_type": "code",
   "execution_count": 61,
   "metadata": {},
   "outputs": [
    {
     "data": {
      "text/plain": [
       "'magic banana production' (kilogram, CO, None)"
      ]
     },
     "execution_count": 61,
     "metadata": {},
     "output_type": "execute_result"
    }
   ],
   "source": [
    "act"
   ]
  },
  {
   "cell_type": "code",
   "execution_count": 71,
   "metadata": {},
   "outputs": [],
   "source": [
    "banana_activity = [\n",
    "    activitiy for activitiy in bd.Database(\"my_own_database\")\n",
    "    if 'magic banana' in activitiy['name']\n",
    "]"
   ]
  },
  {
   "cell_type": "code",
   "execution_count": 73,
   "metadata": {},
   "outputs": [],
   "source": [
    "ipcc_gwp_method = [\n",
    "    method for method in bd.methods\n",
    "    if 'IPCC 2021' == method[1]\n",
    "    and 'climate change' == method[2]\n",
    "    and '(GWP100)' in method[3]\n",
    "][0]"
   ]
  },
  {
   "cell_type": "code",
   "execution_count": 74,
   "metadata": {},
   "outputs": [],
   "source": [
    "my_functional_unit, data_objs, _ = bd.prepare_lca_inputs(\n",
    "    {act: 42},\n",
    "    method=ipcc_gwp_method)\n",
    "my_lca = bc.LCA(demand=my_functional_unit, data_objs=data_objs)\n",
    "my_lca.lci()\n",
    "my_lca.lcia()"
   ]
  },
  {
   "cell_type": "code",
   "execution_count": 75,
   "metadata": {},
   "outputs": [
    {
     "data": {
      "text/plain": [
       "0.016015050756031914"
      ]
     },
     "execution_count": 75,
     "metadata": {},
     "output_type": "execute_result"
    }
   ],
   "source": [
    "my_lca.score"
   ]
  }
 ],
 "metadata": {
  "kernelspec": {
   "display_name": "env_bw25",
   "language": "python",
   "name": "python3"
  },
  "language_info": {
   "codemirror_mode": {
    "name": "ipython",
    "version": 3
   },
   "file_extension": ".py",
   "mimetype": "text/x-python",
   "name": "python",
   "nbconvert_exporter": "python",
   "pygments_lexer": "ipython3",
   "version": "3.11.10"
  }
 },
 "nbformat": 4,
 "nbformat_minor": 2
}
